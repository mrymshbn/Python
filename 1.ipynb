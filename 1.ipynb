{
 "cells": [
  {
   "cell_type": "markdown",
   "id": "781a7b59",
   "metadata": {},
   "source": [
    "# ۱)\n",
    "#### فرض کنید هر فرد به طور میانگین در طول شبانه روز، 8 ساعت را صرف خواب میکند. برنامه ای بنویسید ،که با دریافت سن از کاربر، مدت زمانی که شخص در طول عمر خود خواب بوده است را محاسبه کند"
   ]
  },
  {
   "cell_type": "code",
   "execution_count": 20,
   "id": "e45999ce",
   "metadata": {
    "scrolled": true
   },
   "outputs": [
    {
     "name": "stdout",
     "output_type": "stream",
     "text": [
      "please enter your age  : 25\n",
      "The total sleep time of a person according to age :    1752000\n"
     ]
    }
   ],
   "source": [
    "age=int(input(\"please enter your age  : \"))\n",
    "## SleepAyear= 70080                ###The duration of the person's sleeping hours in one year ( year to hour365*24=8760*8=70080 )\n",
    "totalSleepTime=8*age            ###The duration of a person's sleep according to the length of life\n",
    "print ('The total sleep time of a person according to age :   ',totalSleepTime)"
   ]
  },
  {
   "cell_type": "markdown",
   "id": "a7bdffd1",
   "metadata": {},
   "source": [
    "<h1>۲)محاسبه محیط ومساحت دایره با دریافت شعاع</h1>"
   ]
  },
  {
   "cell_type": "code",
   "execution_count": 1,
   "id": "ecd5a9d5",
   "metadata": {},
   "outputs": [
    {
     "name": "stdout",
     "output_type": "stream",
     "text": [
      "please enter your Circle Radius   :5\n",
      "Circle  Area : 78.5  \n",
      " Circle Circumference  :31.400000000000002\n"
     ]
    }
   ],
   "source": [
    "pi=3.14\n",
    "radius=float( input(\"please enter your Circle Radius   :\"))\n",
    "area= pi*radius**2\n",
    "circumference=2*pi*radius\n",
    "print( f\"Circle  Area : {area}  \\n Circle Circumference  :{circumference}\")"
   ]
  },
  {
   "cell_type": "markdown",
   "id": "cd4feebb",
   "metadata": {},
   "source": [
    " ## 3) \n",
    " #### دو عدد را از کاربر گرفته و به ترتیب در متغیرها  ذخیره کند. سپس محتویات این دو متغیر را با یکدیگر تعویض کرده و نتیجه را در خروجی نمایش دهد"
   ]
  },
  {
   "cell_type": "code",
   "execution_count": 12,
   "id": "fa3be7e8",
   "metadata": {},
   "outputs": [
    {
     "name": "stdout",
     "output_type": "stream",
     "text": [
      "Please Enter First Number : 25\n",
      "Please Enter Secend Number : 29\n",
      "A : 29  &  B : 25 \n"
     ]
    }
   ],
   "source": [
    "A=input(\"Please Enter First Number : \")\n",
    "B=input(\"Please Enter Secend Number : \")\n",
    "A,B=B,A\n",
    "print(\"A : {}  &  B : {} \".format(A,B))"
   ]
  },
  {
   "cell_type": "markdown",
   "id": "55607ca8",
   "metadata": {},
   "source": [
    "###  ۳)   راه حل دوم "
   ]
  },
  {
   "cell_type": "code",
   "execution_count": 20,
   "id": "7c7cdf28",
   "metadata": {},
   "outputs": [
    {
     "name": "stdout",
     "output_type": "stream",
     "text": [
      "The value of   A   after Replacing  : 29  \n",
      " The value of   B   after Replacing  : 25 \n"
     ]
    }
   ],
   "source": [
    "C=B\n",
    "B=A\n",
    "A=C\n",
    "print(\"The value of   A   after Replacing  : {}  \\n The value of   B   after Replacing  : {} \".format(A,B))"
   ]
  },
  {
   "cell_type": "markdown",
   "id": "d7226d4e",
   "metadata": {},
   "source": [
    "##  ۴) \n",
    "#### مقدار برنج و قیمت هر کیلو برنج را از کاربر بگیرید و سپس حداقل و حداکثر قیمت این مقدار برنج را در طول سال محاسبه کنید"
   ]
  },
  {
   "cell_type": "code",
   "execution_count": 2,
   "id": "f14eaf4f",
   "metadata": {},
   "outputs": [
    {
     "name": "stdout",
     "output_type": "stream",
     "text": [
      "Please Enter Amount Of Rice : 2\n",
      "Please Enter Price per Kilo of Rice : 2000\n",
      "priceMax : 3998.3\n",
      "priceMin : 4001.7\n"
     ]
    }
   ],
   "source": [
    "rice=float(input(\"Please Enter Amount Of Rice : \"))\n",
    "price=float(input(\"Please Enter Price per Kilo of Rice : \"))\n",
    "## fluctuation=((price*15/100) - price)/price       ###15% price fluctuation\n",
    "flu=price*15/100\n",
    "priceMax=rice*(flu+price)\n",
    "priceMin=rice*(price-flu)\n",
    "print('priceMax : {}\\npriceMin : {}'.format(priceMax,priceMin))"
   ]
  },
  {
   "cell_type": "code",
   "execution_count": 13,
   "id": "397f58d7",
   "metadata": {},
   "outputs": [
    {
     "data": {
      "image/png": "[encoded data removed]",
      "text/plain": [
       "<PIL.Image.Image image mode=RGB size=197x176 at 0x1A33C286D30>"
      ]
     },
     "execution_count": 13,
     "metadata": {},
     "output_type": "execute_result"
    }
   ],
   "source": [
    "from PIL import Image\n",
    "img = Image.open('Gold metal.jpg')\n",
    "new_img = img.resize((197, 176))\n",
    "new_img.save('img_400.jpg')\n",
    "new_img"
   ]
  },
  {
   "cell_type": "markdown",
   "id": "77878208",
   "metadata": {},
   "source": [
    "## ۵)  \n",
    "### قیمت بخش آبی رنگ از فلز طلای فوق را برحسب دلار بدست آورید"
   ]
  },
  {
   "cell_type": "code",
   "execution_count": 23,
   "id": "ec8cdb7a",
   "metadata": {},
   "outputs": [
    {
     "name": "stdout",
     "output_type": "stream",
     "text": [
      "The price of the blue part of the above gold metal :  $ \t -260876959.19786668\n"
     ]
    }
   ],
   "source": [
    "raduis=14*8      ##The radius of the circle in centimeters in grams\n",
    "pi=3.14\n",
    "Weight=14*8         ##Weight per square centimeter in grams\n",
    "## circleVolume=4/3*pi*raduis**3\n",
    "circleArea=pi*raduis**2\n",
    " ##squareVolume =side**3\n",
    "    squareArea=4*raduis\n",
    "pgg=58.27    ##Price per gram of gold in dollars($)\n",
    "price= (circleArea-squareArea)*pgg*Weight\n",
    "print( 'The price of the blue part of the above gold metal :  $ \\t {}' .format(price))"
   ]
  },
  {
   "cell_type": "code",
   "execution_count": null,
   "id": "63d945aa",
   "metadata": {},
   "outputs": [],
   "source": []
  },
  {
   "cell_type": "code",
   "execution_count": null,
   "id": "39deb91b",
   "metadata": {},
   "outputs": [],
   "source": []
  }
 ],
 "metadata": {
  "kernelspec": {
   "display_name": "Python 3 (ipykernel)",
   "language": "python",
   "name": "python3"
  },
  "language_info": {
   "codemirror_mode": {
    "name": "ipython",
    "version": 3
   },
   "file_extension": ".py",
   "mimetype": "text/x-python",
   "name": "python",
   "nbconvert_exporter": "python",
   "pygments_lexer": "ipython3",
   "version": "3.9.7"
  }
 },
 "nbformat": 4,
 "nbformat_minor": 5
}
