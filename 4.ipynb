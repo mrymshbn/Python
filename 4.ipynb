{
 "cells": [
  {
   "cell_type": "markdown",
   "id": "cd47869a",
   "metadata": {},
   "source": [
    "#### 1 )برنامهای بنویسید که 11 عدد را از کاربر بگیرد و در لیستی ذخیره کند؛ سپس به ترتیب عکس ورودی (از  انتها به ابتدا) داده های لیست را نمایش دهد"
   ]
  },
  {
   "cell_type": "code",
   "execution_count": 4,
   "id": "dfec9fc7",
   "metadata": {},
   "outputs": [
    {
     "name": "stdout",
     "output_type": "stream",
     "text": [
      "User please Enter a Favorite  Number  1 : 2\n",
      "User please Enter a Favorite  Number  2 : 2\n",
      "User please Enter a Favorite  Number  3 : 22\n",
      "User please Enter a Favorite  Number  4 : 222\n",
      "User please Enter a Favorite  Number  5 : 2222\n",
      "User please Enter a Favorite  Number  6 : 33\n",
      "User please Enter a Favorite  Number  7 : 44\n",
      "User please Enter a Favorite  Number  8 : 55\n",
      "User please Enter a Favorite  Number  9 : 66\n",
      "User please Enter a Favorite  Number  10 : 77\n",
      "User please Enter a Favorite  Number  11 : 88\n",
      "myList =  [2, 2, 22, 222, 2222, 33, 44, 55, 66, 77, 88]\n",
      "Reverse My List Entries  =   [88, 77, 66, 55, 44, 33, 2222, 222, 22, 2, 2]\n"
     ]
    }
   ],
   "source": [
    " myList = [ ]\n",
    "    \n",
    "for i in range (11) :\n",
    "    myList.append(int(input(f\"User please Enter a Favorite  Number  {i+1} : \")))\n",
    "print(\"myList = \" , myList)\n",
    "\n",
    "new=myList[-1:  : -1]\n",
    "print(\"Reverse My List Entries  =  \" , new  )\n",
    "    "
   ]
  },
  {
   "cell_type": "markdown",
   "id": "559b1122",
   "metadata": {},
   "source": [
    "#### 2 )برنامه ای بنویسید که 11 عدد را از کاربر بگیرد و در لیستی ذخیره کند؛ سپس به ترتیب عکس ورودی داده هایی که در اندیس های زوج لیست قرار دارند را نمایش دهد"
   ]
  },
  {
   "cell_type": "code",
   "execution_count": 10,
   "id": "25e1af93",
   "metadata": {},
   "outputs": [
    {
     "name": "stdout",
     "output_type": "stream",
     "text": [
      " Dear User ,,,  Please Enter a Number : ))  1  = 3\n",
      " Dear User ,,,  Please Enter a Number : ))  2  = 2\n",
      " Dear User ,,,  Please Enter a Number : ))  3  = 4\n",
      " Dear User ,,,  Please Enter a Number : ))  4  = 5\n",
      " Dear User ,,,  Please Enter a Number : ))  5  = 6\n",
      " Dear User ,,,  Please Enter a Number : ))  6  = 7\n",
      " Dear User ,,,  Please Enter a Number : ))  7  = 8\n",
      " Dear User ,,,  Please Enter a Number : ))  8  = 9\n",
      " Dear User ,,,  Please Enter a Number : ))  9  = 1\n",
      " Dear User ,,,  Please Enter a Number : ))  10  = 22\n",
      " Dear User ,,,  Please Enter a Number : ))  11  = 333333333\n",
      "myList =  [3, 2, 4, 5, 6, 7, 8, 9, 1, 22, 333333333] \n",
      "\n",
      "Reverse MyList Entries  =   [333333333, 22, 1, 9, 8, 7, 6, 5, 4, 2, 3] \n",
      "\n",
      "evenList =  [333333333, 1, 8, 6, 4, 3] \n",
      "\n",
      "lengthTime  :    13.184680700302124\n"
     ]
    }
   ],
   "source": [
    "import time\n",
    "startTime = time.time()\n",
    "\n",
    "myList = [ ]\n",
    "for i in range(11) :\n",
    "    myList.append (int (input (f\" Dear User ,,,  Please Enter a Number : ))  {i+1}  = \"))) \n",
    "print (\"myList = \" , myList,'\\n')\n",
    "\n",
    "new=myList[-1:  : -1]\n",
    "print(\"Reverse MyList Entries  =  \" , new,'\\n'  )\n",
    "\n",
    "evenList = [ ]\n",
    "for i in range(len(new)) :    \n",
    "    if  i%2==0  :\n",
    "        evenList.append(new[i])\n",
    "print('evenList = ', evenList, '\\n')     \n",
    "\n",
    "lengthTime = time.time() - startTime\n",
    "print('lengthTime  :   ' , lengthTime) "
   ]
  },
  {
   "cell_type": "markdown",
   "id": "793534e1",
   "metadata": {},
   "source": [
    "### 3 )برنامه ای بنویسید که محتویات یک لیست را بصورت برعکس در لیست دیگر وارد کند"
   ]
  },
  {
   "cell_type": "code",
   "execution_count": 3,
   "id": "4e680e7f",
   "metadata": {},
   "outputs": [
    {
     "name": "stdout",
     "output_type": "stream",
     "text": [
      "myList 1 =  [1, 0, 2, 3, 4]\n",
      "myList 2 =  [0, 1, 2, 3, 4]\n"
     ]
    }
   ],
   "source": [
    "import random\n",
    "\n",
    "myList1 = [ ]\n",
    "for i in range (5) :\n",
    "    myList1.append(int(random.random()*8))\n",
    "print(\"myList 1 = \" , myList1)\n",
    "                  \n",
    "myList2 = [ ]\n",
    "for i in range (len(myList1)-1 , -1 , -1) :\n",
    "    myList2.append(len(myList2))\n",
    "print(\"myList 2 = \" , myList2)\n",
    "    "
   ]
  },
  {
   "cell_type": "markdown",
   "id": "49b54ce4",
   "metadata": {},
   "source": [
    "### 4 )برنامه ای بنویسید که 11 عدد را از کاربر بگیرد؛ و بگوید آیا هیچ دو عددی با باقیمانده مشابه بر 19 در بین این اعداد وجود دارد یا خیر"
   ]
  },
  {
   "cell_type": "code",
   "execution_count": null,
   "id": "2928816c",
   "metadata": {},
   "outputs": [],
   "source": [
    " myList = [ ]\n",
    "for i in range (11) :\n",
    "    myList.append(int(input(f\"User please Enter a Favorite  Number  {i+1} =  \")))\n",
    "print(\"mylist = \" , myList)\n",
    "\n",
    "for  i  in  range (len(myList))  : \n",
    "    if  myList[i] %19 == myList[i] %19 :  \n",
    "        print(\"Yesssssss\")\n",
    "        \n",
    "    else :\n",
    "            print(\"Nooooo\")\n",
    "    "
   ]
  },
  {
   "cell_type": "markdown",
   "id": "5a27a4d7",
   "metadata": {},
   "source": [
    "#### 5 ) ... دو لیست بسازید و با استفاده از اعداد تصادفی، داخل هرکدام 50 عدد صحیح  قرار دهید. بازه اعداد تصادفی باید بین 10 تا 100 باشد. سپس "
   ]
  },
  {
   "cell_type": "code",
   "execution_count": 1,
   "id": "06194a92",
   "metadata": {},
   "outputs": [
    {
     "name": "stdout",
     "output_type": "stream",
     "text": [
      "myList 1 =  [84, 84, 74, 55, 18, 61, 55, 67, 14, 70, 99, 32, 35, 89, 29, 80, 81, 15, 45, 14, 22, 31, 17, 20, 88, 12, 60, 13, 34, 19, 37, 90, 34, 32, 81, 34, 82, 75, 68, 39, 11, 70, 29, 81, 16, 88, 86, 60, 43, 23]\n",
      "myList 2 =  [70, 41, 93, 51, 87, 63, 92, 88, 11, 69, 10, 69, 44, 95, 30, 26, 43, 73, 83, 52, 42, 16, 52, 83, 20, 79, 70, 45, 79, 88, 75, 73, 95, 10, 75, 30, 12, 29, 25, 61, 52, 91, 63, 52, 86, 11, 83, 73, 34, 39]\n",
      "C  =  [1, 1, -1, 1, -1, -1, -1, -1, 1, 1, 1, -1, -1, -1, -1, 1, 1, -1, -1, -1, -1, 1, -1, -1, 1, -1, -1, -1, -1, -1, -1, 1, -1, 1, 1, 1, 1, 1, 1, -1, -1, -1, -1, 1, -1, 1, 1, -1, 1, -1]\n"
     ]
    }
   ],
   "source": [
    "#[100,10)\n",
    "import random\n",
    "A = [ ]\n",
    "for i in range (50) :\n",
    "    A.append(int(random.random()*90+10))\n",
    "print(\"myList 1 = \" , A)\n",
    "                  \n",
    "B = [ ]\n",
    "for i in range (50) :\n",
    "    B.append(int(random.random()*90+10))\n",
    "print(\"myList 2 = \" , B)\n",
    "\n",
    "c= [ ]\n",
    "for i in range(len(A)) :\n",
    "    if  A[i]>B[i] :\n",
    "        c.append(+1)\n",
    "    \n",
    "    elif  A[i]<B[i] :\n",
    "        c.append(-1)\n",
    "    \n",
    "    elif  A[i]==B[i] :\n",
    "        c.append(0)\n",
    "\n",
    "print('C  = ' , c)\n",
    "    "
   ]
  },
  {
   "cell_type": "markdown",
   "id": "d63d1149",
   "metadata": {},
   "source": [
    "#### 6 )برنامه ای بنویسید که 100 عدد تصادفی بین 0 تا 99 تولید کرده و سپس تعیین کند هر عدد چند بار تکرار شده است "
   ]
  },
  {
   "cell_type": "code",
   "execution_count": 105,
   "id": "b6cf2cd3",
   "metadata": {},
   "outputs": [
    {
     "name": "stdout",
     "output_type": "stream",
     "text": [
      "mylist = \t [73, 31, 20, 21, 57, 93, 50, 62, 39, 72, 81, 91, 54, 68, 12, 68, 41, 89, 60, 49, 62, 42, 43, 62, 83, 87, 24, 49, 59, 28, 8, 60, 47, 71, 6, 8, 69, 92, 73, 72, 74, 19, 74, 95, 18, 96, 74, 7, 33, 36, 44, 44, 90, 47, 41, 47, 77, 93, 80, 85, 52, 13, 40, 42, 37, 54, 5, 49, 59, 2, 17, 86, 70, 68, 29, 76, 83, 20, 26, 28, 14, 1, 39, 0, 12, 30, 86, 77, 2, 10, 45, 69, 51, 45, 28, 65, 15, 30, 19, 1] \n",
      "\n",
      "theNumberRepeated =  \t  {73: 2, 31: 1, 20: 2, 21: 1, 57: 1, 93: 2, 50: 1, 62: 3, 39: 2, 72: 2, 81: 1, 91: 1, 54: 2, 68: 3, 12: 2, 41: 2, 89: 1, 60: 2, 49: 3, 42: 2, 43: 1, 83: 2, 87: 1, 24: 1, 59: 2, 28: 3, 8: 2, 47: 3, 71: 1, 6: 1, 69: 2, 92: 1, 74: 3, 19: 2, 95: 1, 18: 1, 96: 1, 7: 1, 33: 1, 36: 1, 44: 2, 90: 1, 77: 2, 80: 1, 85: 1, 52: 1, 13: 1, 40: 1, 37: 1, 5: 1, 2: 2, 17: 1, 86: 2, 70: 1, 29: 1, 76: 1, 26: 1, 14: 1, 1: 2, 0: 1, 30: 2, 10: 1, 45: 2, 51: 1, 65: 1, 15: 1}\n"
     ]
    }
   ],
   "source": [
    "import random\n",
    "#[0 , 99 ]\n",
    "\n",
    "mylist = [ ]\n",
    "for i in range(100) :\n",
    "    mylist.append(random.randint(0 , 99))\n",
    "print('mylist = \\t' , mylist,'\\n')\n",
    "\n",
    "theNumberRepeated = dict((i , mylist.count(i)) for i in mylist)\n",
    "print ('theNumberRepeated =  \\t ' , theNumberRepeated )"
   ]
  },
  {
   "cell_type": "markdown",
   "id": "ee66c228",
   "metadata": {},
   "source": [
    "#### 7 )برنامه ای حاوی دو لیست بسازید که هر لیست با 20 عدد تصادفی صحیح  پر شود. سپس اعدادی که در لیست اول بوده اما در لیست دوم حضور ندارند را پیدا کرده و چاپ کند"
   ]
  },
  {
   "cell_type": "code",
   "execution_count": 1,
   "id": "1ffbd08e",
   "metadata": {},
   "outputs": [
    {
     "name": "stdout",
     "output_type": "stream",
     "text": [
      "myList 1 =  [32, 14, 49, 67, 75, 60, 26, 59, 75, 95, 38, 55, 25, 74, 20, 25, 52, 12, 53, 15]\n",
      "myList 2 =  [24, 34, 93, 90, 64, 19, 62, 78, 13, 73, 72, 51, 63, 16, 24, 45, 36, 40, 60, 30]\n",
      "C  =  [32, 14, 49, 67, 75, 60, 26, 59, 75, 95, 38, 55, 25, 74, 20, 25, 52, 12, 53, 15]\n"
     ]
    }
   ],
   "source": [
    "import random\n",
    "list1= [ ]\n",
    "for i in range (20) :\n",
    "    list1.append(int(random.random()*90+10))\n",
    "print(\"myList 1 = \" , list1)\n",
    "                  \n",
    "list2= [ ]\n",
    "for i in range (20) :\n",
    "    list2.append(int(random.random()*90+10))\n",
    "print(\"myList 2 = \" , list2)\n",
    "\n",
    "c= [ ]\n",
    "for i in range(len(list1)) :\n",
    "    if  list1[i] != list2[i] :\n",
    "        c.append( list1[i] )\n",
    "\n",
    "print('C  = ' , c)\n"
   ]
  },
  {
   "cell_type": "markdown",
   "id": "c8b9e66a",
   "metadata": {},
   "source": [
    "#### 8 )برنامه ای بنویسید که با استفاده از لیست، یک ماتریس 3*3 ساخته و اعداد 1 تا 6( به همراه خود 1 و 6 )را بصورت تصادفی داخل این ماتریس قرار دهد"
   ]
  },
  {
   "cell_type": "code",
   "execution_count": 24,
   "id": "463f4ece",
   "metadata": {},
   "outputs": [
    {
     "name": "stdout",
     "output_type": "stream",
     "text": [
      "myList 1 =  [5, 1, 3]\n",
      "myList 2 =  [3, 5, 5]\n",
      "myList 3 =  [6, 5, 6]\n",
      "myList 4 =  [[6, 5, 6, 3, 5, 5, 5, 1, 3]]\n"
     ]
    }
   ],
   "source": [
    "import random\n",
    "\n",
    "myList1 = [ ]\n",
    "for i in range (3) :\n",
    "    myList1.append(int(random.random()*5+1))\n",
    "print(\"myList 1 = \" , myList1)\n",
    "\n",
    "myList2 = [ ]\n",
    "for i in range (3) :\n",
    "    myList2.append(int(random.random()*5+1))\n",
    "print(\"myList 2 = \" , myList2)\n",
    "\n",
    "myList3= [ ]\n",
    "for i in range (3) :\n",
    "    myList3.append(int(random.random()*8))\n",
    "print(\"myList 3 = \" , myList3)\n",
    "\n",
    "myList4 =  [ ]\n",
    "myList4.append(myList3+myList2+myList1)\n",
    "print(\"myList 4 = \" , myList4 )\n",
    "\n",
    " ###Flase!!!!!!!!!        "
   ]
  },
  {
   "cell_type": "code",
   "execution_count": 22,
   "id": "3b01255e",
   "metadata": {},
   "outputs": [
    {
     "name": "stdout",
     "output_type": "stream",
     "text": [
      "myList 1 =  [2, 1, 1]\n",
      "myList 2 =  [3, 5, 2]\n",
      "myList 3 =  [3, 5, 5]\n"
     ]
    }
   ],
   "source": [
    "import random\n",
    "\n",
    "myList1 = [ ]\n",
    "for i in range (3) :\n",
    "    myList1.append(int(random.random()*5+1))\n",
    "print(\"myList 1 = \" , myList1)\n",
    "\n",
    "myList2 = [ ]\n",
    "for i in range (3) :\n",
    "    myList2.append(int(random.random()*5+1))\n",
    "print(\"myList 2 = \" , myList2)\n",
    "\n",
    "myList3 = [ ]\n",
    "for i in range (3) :\n",
    "    myList3.append(int(random.random()*5+1))\n",
    "print(\"myList 3 = \" , myList3)\n",
    "    "
   ]
  },
  {
   "cell_type": "markdown",
   "id": "2dae68d3",
   "metadata": {},
   "source": [
    "### 8 ) "
   ]
  },
  {
   "cell_type": "code",
   "execution_count": 23,
   "id": "715de9c7",
   "metadata": {},
   "outputs": [
    {
     "name": "stdout",
     "output_type": "stream",
     "text": [
      "random_matrix  = \t [[4, 3, 2], [4, 4, 2], [6, 2, 3]]\n"
     ]
    }
   ],
   "source": [
    "random_matrix = [[random.randint(1,6) for e in range(3)] for e in range(3)]\n",
    "print('random_matrix  = \\t' , random_matrix)\n",
    " ###Flase!!!!!!!!! "
   ]
  },
  {
   "cell_type": "code",
   "execution_count": 39,
   "id": "30d53068",
   "metadata": {},
   "outputs": [
    {
     "name": "stderr",
     "output_type": "stream",
     "text": [
      "C:\\Users\\lenovo\\AppData\\Local\\Temp/ipykernel_5844/3782686119.py:3: DeprecationWarning: This function is deprecated. Please call randint(1, 6 + 1) instead\n",
      "  np.random.random_integers(1, 6, (3, 3))\n"
     ]
    },
    {
     "data": {
      "text/plain": [
       "array([[3, 4, 1],\n",
       "       [2, 6, 1],\n",
       "       [3, 3, 2]])"
      ]
     },
     "execution_count": 39,
     "metadata": {},
     "output_type": "execute_result"
    }
   ],
   "source": [
    "import random \n",
    "import numpy as np\n",
    "np.random.random_integers(1, 6, (3, 3))\n",
    "\n",
    "\n"
   ]
  },
  {
   "cell_type": "markdown",
   "id": "4eb2979c",
   "metadata": {},
   "source": [
    "###### 9 )برنامه ای بنویسید که یک جدول 10*10 را با قرار دادن 100 عدد تصادفی صحیح در داخل آن، تشکیل دهد. سپس محل بزرگترین و کوچکترین عناصر جدول را نمایش دهد "
   ]
  },
  {
   "cell_type": "code",
   "execution_count": 25,
   "id": "033cca87",
   "metadata": {},
   "outputs": [
    {
     "name": "stdout",
     "output_type": "stream",
     "text": [
      "  1   2   3   4   5   6   7   8   9  10 \n",
      "  2   4   6   8  10  12  14  16  18  20 \n",
      "  3   6   9  12  15  18  21  24  27  30 \n",
      "  4   8  12  16  20  24  28  32  36  40 \n",
      "  5  10  15  20  25  30  35  40  45  50 \n",
      "  6  12  18  24  30  36  42  48  54  60 \n",
      "  7  14  21  28  35  42  49  56  63  70 \n",
      "  8  16  24  32  40  48  56  64  72  80 \n",
      "  9  18  27  36  45  54  63  72  81  90 \n",
      " 10  20  30  40  50  60  70  80  90 100 \n"
     ]
    }
   ],
   "source": [
    "for x in range (1, 11):\n",
    "    for y in range (1, 11):\n",
    "        print ('{:3}'.format(x*y), end=' ')\n",
    "    print()"
   ]
  },
  {
   "cell_type": "code",
   "execution_count": 38,
   "id": "76d1f226",
   "metadata": {},
   "outputs": [
    {
     "name": "stdout",
     "output_type": "stream",
     "text": [
      "A = \t  [[0.64616937 0.42253917 0.54735148 0.20842574 0.28748801 0.42331983\n",
      "  0.42427681 0.80662511 0.63917757 0.85795315]\n",
      " [0.18894141 0.60646249 0.65714614 0.15258119 0.24085923 0.79920492\n",
      "  0.78442409 0.06704683 0.91714527 0.23935658]\n",
      " [0.28915703 0.80135326 0.53170238 0.39587607 0.29967385 0.2952023\n",
      "  0.20978984 0.65792418 0.9522461  0.45561907]\n",
      " [0.90238316 0.17241673 0.19059085 0.73013908 0.6288873  0.6441843\n",
      "  0.51345745 0.90533661 0.58039211 0.92268873]\n",
      " [0.03829576 0.66252411 0.64229382 0.66563922 0.80046214 0.51991617\n",
      "  0.72377083 0.66074759 0.0979965  0.98440327]\n",
      " [0.45366099 0.05957074 0.38166392 0.15662661 0.9903794  0.4521394\n",
      "  0.38530599 0.45315262 0.01598434 0.15919591]\n",
      " [0.19094556 0.36463348 0.29614158 0.43024446 0.4094189  0.6478852\n",
      "  0.50616435 0.94297185 0.31037636 0.76364964]\n",
      " [0.26462789 0.78370624 0.25925752 0.46082103 0.72478322 0.02064524\n",
      "  0.63649785 0.42068046 0.47315339 0.91575997]\n",
      " [0.49765674 0.83929117 0.79704896 0.00739693 0.26864215 0.48424876\n",
      "  0.59279281 0.86254896 0.27782859 0.05266677]\n",
      " [0.68295614 0.87416845 0.22089651 0.86364669 0.52731341 0.3594247\n",
      "  0.16982828 0.32311516 0.78466132 0.270199  ]]\n",
      "Min = \t 0.007396931189380451\n",
      "Max = \t 0.9903794011627768\n"
     ]
    }
   ],
   "source": [
    "A= numpy.random.random((10, 10))\n",
    "print('A = \\t ' , A)\n",
    "print('Min = \\t' , A.min()) \n",
    "print('Max = \\t' , A.max())"
   ]
  },
  {
   "cell_type": "code",
   "execution_count": null,
   "id": "4501998c",
   "metadata": {},
   "outputs": [],
   "source": []
  }
 ],
 "metadata": {
  "kernelspec": {
   "display_name": "Python 3 (ipykernel)",
   "language": "python",
   "name": "python3"
  },
  "language_info": {
   "codemirror_mode": {
    "name": "ipython",
    "version": 3
   },
   "file_extension": ".py",
   "mimetype": "text/x-python",
   "name": "python",
   "nbconvert_exporter": "python",
   "pygments_lexer": "ipython3",
   "version": "3.9.7"
  }
 },
 "nbformat": 4,
 "nbformat_minor": 5
}
