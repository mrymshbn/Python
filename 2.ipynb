{
 "cells": [
  {
   "cell_type": "markdown",
   "id": "678379dd",
   "metadata": {},
   "source": [
    "### 1 )برنامه ای بنویسید که عددی را از کاربر بگیرد؛ سپس با چاپ پیغامی مشخص کند آیا عدد وارد شده سه رقمی است یا خیر"
   ]
  },
  {
   "cell_type": "code",
   "execution_count": 4,
   "id": "7c827231",
   "metadata": {},
   "outputs": [
    {
     "name": "stdout",
     "output_type": "stream",
     "text": [
      "Please Enter Your Favorite Number  :    ۶۶۶۶\n",
      "intended number this is not a three_digit number\n"
     ]
    }
   ],
   "source": [
    "number= int(input ('Please Enter Your Favorite Number  :    '))\n",
    "\n",
    "## if  (100<=number<=999) :      This type of writing is not common  \n",
    "if  (100<=number) and  (number<=999) :\n",
    "    print( number , 'Is a three-digit number')\n",
    "          \n",
    "else :\n",
    "    print('intended number this is not a three_digit number')"
   ]
  },
  {
   "cell_type": "markdown",
   "id": "d177be46",
   "metadata": {},
   "source": [
    "###   2 )برنامه ای بنویسید که 5 عدد از کاربر بگیرد؛ سپس اولین عدد زوج وارد شده توسط کاربر(از بین این 5 عدد) را در خروجی نمایش دهد"
   ]
  },
  {
   "cell_type": "code",
   "execution_count": 7,
   "id": "516e730c",
   "metadata": {},
   "outputs": [
    {
     "name": "stdout",
     "output_type": "stream",
     "text": [
      "please enter first number         :   2\n",
      "please  enter secend number    :   3\n",
      "please enter third number         :   4\n",
      "please enter  fourth number      :   6\n",
      "please enter fifth number          :   7\n",
      "2  : first number is even\n"
     ]
    }
   ],
   "source": [
    "n1=int (input ('please enter first number         :   '))\n",
    "n2=int (input('please  enter secend number    :   '))\n",
    "n3=int (input('please enter third number         :   '))\n",
    "n4=int (input('please enter  fourth number      :   '))\n",
    "n5=int (input('please enter fifth number          :   '))\n",
    "\n",
    "if  n1%2==0 :\n",
    "    print(n1 , ' : first number is even')\n",
    "    \n",
    "elif n2%2==0 :\n",
    "    print(n2 , ' : secend number is even')\n",
    "    \n",
    "elif n3%2==0 :\n",
    "    print(n3 , ' : third number is even')\n",
    "    \n",
    "elif n4%2==0 :\n",
    "    print(n4 , ' : fourth number is even')\n",
    "        \n",
    "elif n5%2==0 :\n",
    "    print(n5 , ' : fifth number is even')\n",
    "    \n",
    "else:\n",
    "    print('no number is even')"
   ]
  },
  {
   "cell_type": "markdown",
   "id": "75e04300",
   "metadata": {},
   "source": [
    "### 3 )برنامه ای بنویسید که اندازه 3 ضلع مثلث را از کاربر بگیرد و با چاپ پیامی مشخص کند آیا این مثلث متساوی الاضلاع، متساوی الساقین یا معمولی است "
   ]
  },
  {
   "cell_type": "code",
   "execution_count": 5,
   "id": "72c6566c",
   "metadata": {},
   "outputs": [
    {
     "name": "stdout",
     "output_type": "stream",
     "text": [
      "please  enter first side of the triangle         :   2\n",
      "please  enter secend side of the triangle    :   2\n",
      "please enter third side of the triangle        :   3\n",
      "This is an isosceles triangle \n"
     ]
    }
   ],
   "source": [
    "s1=int(input ('please  enter first side of the triangle         :   '))\n",
    "s2=int(input('please  enter secend side of the triangle    :   '))\n",
    "s3=int(input('please enter third side of the triangle        :   '))\n",
    "\n",
    "## if         s1==s2==s3 :  This type of writing is not common\n",
    "if     (s1==s2) and (s2==s3) :  \n",
    "    print('This is an equilateral triangle')\n",
    "    \n",
    "\n",
    "elif     (s1==s2) or (s2==s3 )or (s1==s3) :\n",
    "    print('This is an isosceles triangle ')\n",
    "\n",
    "else: \n",
    "    print(\"This is an normal(Scalene) triangle\")\n",
    "    \n",
    "    "
   ]
  },
  {
   "cell_type": "markdown",
   "id": "7c3d9cd5",
   "metadata": {},
   "source": [
    "### 4 )برنامه ای بنویسید که عددی را از کاربر بگیرد؛ اگر بر 2 بخش پذیر بود اما بر 5 بخش پذیر نبود پیغام بله و  در غیر اینصورت پیغام نه را نمایش دهد"
   ]
  },
  {
   "cell_type": "code",
   "execution_count": 10,
   "id": "bbb314d2",
   "metadata": {},
   "outputs": [
    {
     "name": "stdout",
     "output_type": "stream",
     "text": [
      "Please Enter Your Favorite Number  :    22\n",
      "Yessssssss\n"
     ]
    }
   ],
   "source": [
    "number= int(input ('Please Enter Your Favorite Number  :    '))\n",
    "if     (number%2==0)  and  (number%5!=0) :\n",
    "    print('Yessssssss')\n",
    "\n",
    "else:\n",
    "    print(\"Noooooooo\")"
   ]
  },
  {
   "cell_type": "markdown",
   "id": "30d09ddd",
   "metadata": {},
   "source": [
    "### 5 )برنامه ای بنویسید که چهار عدد را از کاربر بگیرد و کوچکترین آنها را نمایش دهد"
   ]
  },
  {
   "cell_type": "code",
   "execution_count": 23,
   "id": "4c8befd1",
   "metadata": {},
   "outputs": [
    {
     "name": "stdout",
     "output_type": "stream",
     "text": [
      "please first number         :   1\n",
      "please secend number    :   2\n",
      "please third number        :   3\n",
      "please fourth number      :   4\n",
      " n1 = 1 is the smallest among the four numbers\n"
     ]
    }
   ],
   "source": [
    "n1=int(input ('please  enter first      number         :   '))\n",
    "n2=int(input('please  enter secend number    :   '))\n",
    "n3=int(input('please  enter third     number        :   '))\n",
    "n4=int(input('please  enter fourth  number      :   '))\n",
    "\n",
    "if   (n1<n2)  and (n1<n3) and (n1<n4) : \n",
    "    print  (' n1 = {} is the smallest among the four numbers'.format(n1) )\n",
    "    \n",
    "elif    (n2<n1)  and (n2<n3) and (n2<n4) :   ##This is not necessary- It can be repeated above  (n2<n1)\n",
    "    print (' n2 = {} is the smallest among the four numbers'.format(n2) )\n",
    "    \n",
    "elif   (n3<n1)  and (n3<n2) and (n3<n4) :  ##This is not necessary (n3<n1)  and (n3<n2)\n",
    "    print (' n3 = {} is the smallest among the four numbers'.format(n3))\n",
    "    \n",
    "elif    (n4<n1)  and (n4<n2) and (n4<n3) :      ##This is not necessary (n4<n1)  and (n4<n2)\n",
    "    print (' n4 = {} is the smallest among the four numbers'.format(n4))\n",
    "    \n",
    "else:\n",
    "    print('was not available')\n",
    "    \n"
   ]
  },
  {
   "cell_type": "markdown",
   "id": "dda5924e",
   "metadata": {},
   "source": [
    "### 5)"
   ]
  },
  {
   "cell_type": "code",
   "execution_count": 5,
   "id": "9f8b4f7d",
   "metadata": {},
   "outputs": [
    {
     "name": "stdout",
     "output_type": "stream",
     "text": [
      "please  enter first      number    :   1\n",
      "please  enter secend number    :   2\n",
      "please  enter third     number    :   3\n",
      "please  enter fourth  number     :   4\n",
      "minimum =  1\n"
     ]
    }
   ],
   "source": [
    "n1=int(input ('please  enter first      number    :   '))\n",
    "n2=int(input('please  enter secend number    :   '))\n",
    "n3=int(input('please  enter third     number    :   '))\n",
    "n4=int(input('please  enter fourth  number     :   '))\n",
    "\n",
    "minimum=n1\n",
    "if minimum>n2 :\n",
    "    minimum=n2\n",
    "    \n",
    "if minimum>n3 :\n",
    "      minimum=n3\n",
    "        \n",
    "if minimum>n4 :\n",
    "      minimum=n4\n",
    "        \n",
    "print('minimum = ' , minimum )        \n",
    "        "
   ]
  },
  {
   "cell_type": "markdown",
   "id": "7cddcee5",
   "metadata": {},
   "source": [
    "### 6 )برنامه ای بنویسید که سه عدد بگیرد و مجموع اعداد فرد حاضر در بین این سه عدد را نمایش دهد"
   ]
  },
  {
   "cell_type": "code",
   "execution_count": 10,
   "id": "f391d19c",
   "metadata": {},
   "outputs": [
    {
     "name": "stdout",
     "output_type": "stream",
     "text": [
      "please enter  first      number         :   1\n",
      "please enter secend  number         :   2\n",
      "please enter  third      number        :   0\n",
      "oddSum= 1\n"
     ]
    }
   ],
   "source": [
    "n1=int (input ('please enter  first      number         :   '))\n",
    "n2=int (input('please enter secend  number         :   '))\n",
    "n3=int (input('please enter  third      number        :   '))\n",
    "\n",
    "s=0\n",
    "\n",
    "if           n1 %2!= 0 :\n",
    "    s+=n1\n",
    "    \n",
    "if           n2 %2!=0 :\n",
    "    s+=n2\n",
    "    \n",
    "if           n3 %2!=0 :\n",
    "    s+=n3\n",
    "    \n",
    "print('oddSum=',s)"
   ]
  },
  {
   "cell_type": "markdown",
   "id": "551e382e",
   "metadata": {},
   "source": [
    "### 7 )برنامه ای بنویسید که یک عدد سه رقمی را از کاربر گرفته و مجموع ارقام آنها را نمایش دهد"
   ]
  },
  {
   "cell_type": "code",
   "execution_count": 11,
   "id": "8cdb3fb0",
   "metadata": {},
   "outputs": [
    {
     "name": "stdout",
     "output_type": "stream",
     "text": [
      "please enter three_digit  number  :   321\n",
      "6\n"
     ]
    }
   ],
   "source": [
    "num=int(input ('please enter three_digit  number  :   '))\n",
    "a = num // 100\n",
    "b = num // 10 % 10\n",
    "c = num % 10\n",
    "print(a + b + c)"
   ]
  },
  {
   "cell_type": "code",
   "execution_count": null,
   "id": "b9593e03",
   "metadata": {},
   "outputs": [],
   "source": []
  }
 ],
 "metadata": {
  "kernelspec": {
   "display_name": "Python 3 (ipykernel)",
   "language": "python",
   "name": "python3"
  },
  "language_info": {
   "codemirror_mode": {
    "name": "ipython",
    "version": 3
   },
   "file_extension": ".py",
   "mimetype": "text/x-python",
   "name": "python",
   "nbconvert_exporter": "python",
   "pygments_lexer": "ipython3",
   "version": "3.9.7"
  }
 },
 "nbformat": 4,
 "nbformat_minor": 5
}
