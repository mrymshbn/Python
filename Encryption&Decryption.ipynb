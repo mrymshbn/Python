{
 "cells": [
  {
   "cell_type": "code",
   "execution_count": 9,
   "id": "c64988f0",
   "metadata": {},
   "outputs": [
    {
     "name": "stdout",
     "output_type": "stream",
     "text": [
      "Welcome To Python\n"
     ]
    }
   ],
   "source": [
    "with open ('Message1.txt', 'r') as file1 :\n",
    "    \n",
    "    Message1=file1.read()\n",
    "print(Message1)"
   ]
  },
  {
   "cell_type": "code",
   "execution_count": 10,
   "id": "d6a3a814",
   "metadata": {},
   "outputs": [
    {
     "name": "stdout",
     "output_type": "stream",
     "text": [
      "['Welcome', 'To', 'Python']\n"
     ]
    }
   ],
   "source": [
    "def Convert(string):\n",
    "    global listMessage1\n",
    "    listMessage1= list(string.split())\n",
    "    return listMessage1\n",
    "\n",
    "    with open ('Message1.txt', 'r') as file :\n",
    "    \n",
    "        Message1=file.read()\n",
    "    print(Message1)\n",
    "print(Convert(Message1))\n"
   ]
  },
  {
   "cell_type": "code",
   "execution_count": 11,
   "id": "6e2a55c9",
   "metadata": {},
   "outputs": [
    {
     "name": "stdout",
     "output_type": "stream",
     "text": [
      "['W', 'e', 'l', 'c', 'o', 'm', 'e', ' ', 'T', 'o', ' ', 'P', 'y', 't', 'h', 'o', 'n']\n"
     ]
    }
   ],
   "source": [
    "def split(Message1):\n",
    "    return list(Message1)\n",
    "\n",
    "    with open ('Message1.txt', 'r') as file :\n",
    "    \n",
    "        Message1=file.read()\n",
    "    print(Message1)\n",
    "S1=split(Message1)\n",
    "print(S1)"
   ]
  },
  {
   "cell_type": "code",
   "execution_count": 38,
   "id": "4690e0f1",
   "metadata": {},
   "outputs": [
    {
     "name": "stdout",
     "output_type": "stream",
     "text": [
      "[87, 101, 108, 99, 111, 109, 101, 32, 84, 111, 32, 80, 121, 116, 104, 111, 110]\n"
     ]
    }
   ],
   "source": [
    "message1AsciiCode=[]\n",
    "\n",
    "for i in range(len(S1)):\n",
    "        message1AsciiCode.append(ord(S1[i]))\n",
    "        \n",
    "print(message1AsciiCode)\n",
    "    "
   ]
  },
  {
   "cell_type": "code",
   "execution_count": 39,
   "id": "2e3427fb",
   "metadata": {},
   "outputs": [
    {
     "name": "stdout",
     "output_type": "stream",
     "text": [
      "inc3 :  [90, 104, 111, 102, 114, 112, 104, 35, 87, 114, 35, 83, 124, 119, 107, 114, 113]\n"
     ]
    }
   ],
   "source": [
    "inc3=[]               #An Increase of Three Units In The Ascii Code of Message1\n",
    "for j in message1AsciiCode:\n",
    "    j+=3\n",
    "    inc3.append(j)\n",
    "print('inc3 : ',inc3)\n",
    "    \n"
   ]
  },
  {
   "cell_type": "code",
   "execution_count": 41,
   "id": "d14a03c4",
   "metadata": {},
   "outputs": [
    {
     "name": "stdout",
     "output_type": "stream",
     "text": [
      "charInc3 :  ['Z', 'h', 'o', 'f', 'r', 'p', 'h', '#', 'W', 'r', '#', 'S', '|', 'w', 'k', 'r', 'q']\n"
     ]
    }
   ],
   "source": [
    "charInc3=[]\n",
    "\n",
    "for j in range(len(inc3)):\n",
    "        charInc3.append(chr(inc3[j]))\n",
    "        \n",
    "print('charInc3 : ', charInc3)"
   ]
  },
  {
   "cell_type": "code",
   "execution_count": 42,
   "id": "ba1d10ff",
   "metadata": {},
   "outputs": [
    {
     "name": "stdout",
     "output_type": "stream",
     "text": [
      "Character Message1 increment of three Ascii Code units:  Zhofrph#Wr#S|wkrq\n"
     ]
    }
   ],
   "source": [
    "def listToString(charInc3):\n",
    "    str1 = \"\"\n",
    "    return (str1.join(charInc3))\n",
    "\n",
    "charInc3\n",
    "print('Character Message1 increment of three Ascii Code units: ', listToString(charInc3))"
   ]
  },
  {
   "cell_type": "code",
   "execution_count": 43,
   "id": "e4b6bd08",
   "metadata": {
    "scrolled": true
   },
   "outputs": [
    {
     "name": "stdout",
     "output_type": "stream",
     "text": [
      "Zhofrph#Wr#S|wkrq\n"
     ]
    }
   ],
   "source": [
    "d=listToString(charInc3)\n",
    "with open ('Message2.txt',mode='w' ) as file2:\n",
    "    file2.write(d)\n",
    "with open ('Message2.txt',mode='r' ) as file2:\n",
    "    Message2=file2.read()\n",
    "print(Message2)"
   ]
  },
  {
   "cell_type": "code",
   "execution_count": 55,
   "id": "e02c5eb6",
   "metadata": {},
   "outputs": [
    {
     "name": "stdout",
     "output_type": "stream",
     "text": [
      "['Z', 'h', 'o', 'f', 'r', 'p', 'h', '#', 'W', 'r', '#', 'S', '|', 'w', 'k', 'r', 'q']\n"
     ]
    }
   ],
   "source": [
    "x=0\n",
    "Message2\n",
    "list_of_strings = [x for x in Message2]\n",
    "print(list_of_strings)"
   ]
  },
  {
   "cell_type": "code",
   "execution_count": 56,
   "id": "fba22311",
   "metadata": {},
   "outputs": [
    {
     "name": "stdout",
     "output_type": "stream",
     "text": [
      "list_of_strings ['Z', 'h', 'o', 'f', 'r', 'p', 'h', '#', 'W', 'r', '#', 'S', '|', 'w', 'k', 'r', 'q']\n",
      "message2AsciiCode :  [90, 104, 111, 102, 114, 112, 104, 35, 87, 114, 35, 83, 124, 119, 107, 114, 113]\n"
     ]
    }
   ],
   "source": [
    "S2=list_of_strings\n",
    "print('list_of_strings',S2)\n",
    "message2AsciiCode=[]\n",
    "\n",
    "for i in S2:\n",
    "        message2AsciiCode.append(ord(i))\n",
    "        \n",
    "print('message2AsciiCode : ',message2AsciiCode)\n",
    "    "
   ]
  },
  {
   "cell_type": "code",
   "execution_count": 57,
   "id": "c71c9a1b",
   "metadata": {},
   "outputs": [
    {
     "name": "stdout",
     "output_type": "stream",
     "text": [
      "dec3 :  [87, 101, 108, 99, 111, 109, 101, 32, 84, 111, 32, 80, 121, 116, 104, 111, 110]\n"
     ]
    }
   ],
   "source": [
    "dec3=[]               #An Decrease of Three Units In The Ascii Code of Message1\n",
    "for j in message2AsciiCode:\n",
    "    j-=3\n",
    "    dec3.append(j)\n",
    "print('dec3 : ',dec3)"
   ]
  },
  {
   "cell_type": "code",
   "execution_count": 58,
   "id": "8106f1e5",
   "metadata": {},
   "outputs": [
    {
     "name": "stdout",
     "output_type": "stream",
     "text": [
      "charDec3 :  ['W', 'e', 'l', 'c', 'o', 'm', 'e', ' ', 'T', 'o', ' ', 'P', 'y', 't', 'h', 'o', 'n']\n"
     ]
    }
   ],
   "source": [
    "charDec3=[]\n",
    "\n",
    "for j in dec3:\n",
    "        charDec3.append(chr(j))\n",
    "        \n",
    "print('charDec3 : ', charDec3)"
   ]
  },
  {
   "cell_type": "code",
   "execution_count": 60,
   "id": "c052012b",
   "metadata": {},
   "outputs": [
    {
     "name": "stdout",
     "output_type": "stream",
     "text": [
      "Character Message2 Decrease of three Ascii Code units: \n",
      " Welcome To Python\n"
     ]
    }
   ],
   "source": [
    "def listToString(charDec3):\n",
    "    str1 = \"\"\n",
    "    return (str1.join(charDec3))\n",
    "\n",
    "charDec3\n",
    "print('Character Message2 Decrease of three Ascii Code units: \\n', listToString(charDec3))"
   ]
  },
  {
   "cell_type": "code",
   "execution_count": 65,
   "id": "b5d637c8",
   "metadata": {},
   "outputs": [
    {
     "name": "stdout",
     "output_type": "stream",
     "text": [
      "Message1 : Welcome To Python\n",
      " Message2 : Zhofrph#Wr#S|wkrq\n"
     ]
    }
   ],
   "source": [
    "print(f'Message1 : {Message1}\\n',f'Message2 : {Message2}')"
   ]
  },
  {
   "cell_type": "code",
   "execution_count": null,
   "id": "86845a23",
   "metadata": {},
   "outputs": [],
   "source": []
  }
 ],
 "metadata": {
  "kernelspec": {
   "display_name": "Python 3 (ipykernel)",
   "language": "python",
   "name": "python3"
  },
  "language_info": {
   "codemirror_mode": {
    "name": "ipython",
    "version": 3
   },
   "file_extension": ".py",
   "mimetype": "text/x-python",
   "name": "python",
   "nbconvert_exporter": "python",
   "pygments_lexer": "ipython3",
   "version": "3.9.7"
  }
 },
 "nbformat": 4,
 "nbformat_minor": 5
}
