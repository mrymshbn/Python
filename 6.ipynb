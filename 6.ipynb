{
 "cells": [
  {
   "cell_type": "code",
   "execution_count": 6,
   "id": "87f1d194",
   "metadata": {},
   "outputs": [
    {
     "name": "stdout",
     "output_type": "stream",
     "text": [
      " Enter a  integer number = 5\n",
      "The sum of odd numbers from 1 to 5  =====>>   9\n"
     ]
    }
   ],
   "source": [
    "#S1\n",
    "\n",
    "def sumodds(n):           \n",
    "    if n == 1 or n == 0:\n",
    "        return n\n",
    "    if n %2 !=0:\n",
    "        return n + sumodds(n-2)\n",
    "    else:\n",
    "        return n-1 + sumodds(n-3)  \n",
    "number=int(input(\" Enter a  integer number = \"))\n",
    "print(f'The sum of odd numbers from 1 to {number}  =====>>  ' , sumodds(number))"
   ]
  },
  {
   "cell_type": "code",
   "execution_count": 1,
   "id": "d0ebe653",
   "metadata": {},
   "outputs": [
    {
     "name": "stdout",
     "output_type": "stream",
     "text": [
      "Please Enter your number  :  4\n",
      "The first number prime after number  :  5\n"
     ]
    }
   ],
   "source": [
    "#S2\n",
    "\n",
    "import math\n",
    "\n",
    "def first_prime(num):\n",
    "    if num==1:\n",
    "        return False\n",
    "    j=0\n",
    "    for i in range (2,int(math.sqrt(num))+1):\n",
    "        if num % i == 0:\n",
    "            j += 1\n",
    "    if j > 0:\n",
    "        return False\n",
    "    else:\n",
    "        return True\n",
    "number = int(input(\"Please Enter your number  :  \"))\n",
    "number += 1\n",
    "while first_prime(number) == False:\n",
    "    number += 1\n",
    "print(f'The first number prime after number  : ', number)    "
   ]
  },
  {
   "cell_type": "code",
   "execution_count": 14,
   "id": "b43d29f2",
   "metadata": {},
   "outputs": [
    {
     "name": "stdout",
     "output_type": "stream",
     "text": [
      " Enter a number ===  N:  4\n",
      " Enter rank of prime number ==== K: 2\n",
      "Kth first number after N =  7\n"
     ]
    }
   ],
   "source": [
    "#S3\n",
    "\n",
    "import math\n",
    "def primeCheck(num):\n",
    "    if num==1:\n",
    "      return False\n",
    "    j=0\n",
    "    for i in range (2,int(math.sqrt(num))+1):\n",
    "        if num%i==0:\n",
    "            j+=1\n",
    "    if j>0:\n",
    "        return False\n",
    "    else:\n",
    "        return True\n",
    "number=int(input(\" Enter a number ===  N:  \"))\n",
    "primeRank=int(input(\" Enter rank of prime number ==== K: \"))\n",
    "j=0\n",
    "while j<primeRank:\n",
    "  number+=1\n",
    "  while primeCheck(number)==False:\n",
    "    number+=1\n",
    "  j+=1  \n",
    "  \n",
    "print('Kth first number after N = ' , number)"
   ]
  },
  {
   "cell_type": "code",
   "execution_count": 23,
   "id": "42256bae",
   "metadata": {},
   "outputs": [
    {
     "name": "stdout",
     "output_type": "stream",
     "text": [
      "primeNumberList :  [1, 2, 3, 4, 5, 6, 7, 8, 9]\n",
      "Length prime Number List :  9\n",
      "Maximum prime number appears between 801and900,and prime numbers is 9\n"
     ]
    }
   ],
   "source": [
    "#S4\n",
    "\n",
    "\n",
    "import math\n",
    "\n",
    "def MorePrimeNumbers(num):\n",
    "    if num == 1:\n",
    "        return False\n",
    "    j=0\n",
    "    for i in range (2,int(math.sqrt(num))+1):\n",
    "        if num %i == 0:\n",
    "            j += 1\n",
    "    if j > 0:\n",
    "        return False\n",
    "    else:\n",
    "        return True\n",
    "primeNumberList = []\n",
    "for i in range (1,101):\n",
    "    primeNumber = 0\n",
    "for j in range (1,101):\n",
    "    \n",
    "    if MorePrimeNumbers((i-1) * 100 + j) == True:\n",
    "        primeNumber += 1\n",
    "        primeNumberList.append(primeNumber)\n",
    "print('primeNumberList : ' ,  primeNumberList)      \n",
    "print('Length prime Number List : ' , len(primeNumberList)) \n",
    "maxPrimeNumber = primeNumberList[0]\n",
    "for i in primeNumberList:\n",
    "    if i > maxPrimeNumber:\n",
    "        maxPrimeNumber = i\n",
    "maxPrimeNumberIndex = primeNumberList.index(maxPrimeNumber)\n",
    "print(f\"Maximum prime number appears between {(maxPrimeNumberIndex) *100 + 1}and{(maxPrimeNumberIndex * 100)+100},and prime numbers is {maxPrimeNumber}\")      \n"
   ]
  },
  {
   "cell_type": "code",
   "execution_count": 24,
   "id": "d10c1c2a",
   "metadata": {},
   "outputs": [
    {
     "name": "stdout",
     "output_type": "stream",
     "text": [
      "Enter a number: 5\n",
      "The Nth term of the Fibonacci sequence =    5\n"
     ]
    }
   ],
   "source": [
    "#5\n",
    "\n",
    "n = int(input(\"Enter a number: \"))\n",
    "\n",
    "fib1 = 1\n",
    "fib2 = 1\n",
    "n-= 2\n",
    "while(n > 0):\n",
    "    fib3 = fib1 + fib2\n",
    "    fib1 = fib2\n",
    "    fib2 = fib3\n",
    "    n -= 1\n",
    "print(\"The Nth term of the Fibonacci sequence =   \" , fib2)"
   ]
  },
  {
   "cell_type": "code",
   "execution_count": 28,
   "id": "6f69331a",
   "metadata": {},
   "outputs": [
    {
     "name": "stdout",
     "output_type": "stream",
     "text": [
      " Enter your first number = 5\n",
      " Enter your second number = 8\n",
      "The number of prime numbers between two numbers ===>>   1\n"
     ]
    }
   ],
   "source": [
    "#S6\n",
    "\n",
    "import math\n",
    "def TheNumberPrimeNumbers(num):\n",
    "    if num == 1:\n",
    "        return False\n",
    "    j = 0\n",
    "    for i in range (2,int(math.sqrt(num))+1):\n",
    "        if num %i == 0:\n",
    "            j += 1\n",
    "    if j > 0:\n",
    "        return False\n",
    "    else:\n",
    "        return True\n",
    "    \n",
    "num1 = int(input(\" Enter your first number = \")) \n",
    "num2 = int(input(\" Enter your second number = \"))\n",
    "\n",
    "if num1 > num2:\n",
    "    tempnum = num1\n",
    "    num1 = num2\n",
    "    num2 = tempnum\n",
    "primeNum=0\n",
    "\n",
    "for i in range (num1 + 1,num2 + 1):\n",
    "    if TheNumberPrimeNumbers(i) == True:\n",
    "        primeNum += 1\n",
    "        \n",
    "print('The number of prime numbers between two numbers ===>>  ' , primeNum)    "
   ]
  }
 ],
 "metadata": {
  "kernelspec": {
   "display_name": "Python 3 (ipykernel)",
   "language": "python",
   "name": "python3"
  },
  "language_info": {
   "codemirror_mode": {
    "name": "ipython",
    "version": 3
   },
   "file_extension": ".py",
   "mimetype": "text/x-python",
   "name": "python",
   "nbconvert_exporter": "python",
   "pygments_lexer": "ipython3",
   "version": "3.9.7"
  }
 },
 "nbformat": 4,
 "nbformat_minor": 5
}
