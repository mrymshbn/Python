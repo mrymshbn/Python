{
 "cells": [
  {
   "cell_type": "markdown",
   "id": "79b57cf8",
   "metadata": {},
   "source": [
    "### 1 )برنامه ای بنویسید که یک عدد در مبنای 10 از کاربر دریافت کرده و معادل آن در مبنای 2 را نمایش دهد "
   ]
  },
  {
   "cell_type": "code",
   "execution_count": 33,
   "id": "efdd91b7",
   "metadata": {},
   "outputs": [
    {
     "name": "stdout",
     "output_type": "stream",
     "text": [
      "Enter a Number in Base Ten  : 25\n",
      "11001\n"
     ]
    }
   ],
   "source": [
    "n = int ( input ( \"Enter a Number in Base Ten  : \" ) )\n",
    "def bin(n): \n",
    "      \n",
    "    if (n > 1):  \n",
    "        bin(n >> 1) \n",
    "    print(n & 1, end = \"\")   \n",
    "bin(n) \n",
    "print() "
   ]
  },
  {
   "cell_type": "markdown",
   "id": "186d007b",
   "metadata": {},
   "source": [
    "###  2)برنامه ای بنویسید که یک عدد در مبنای 2 از کاربر دریافت کرده و معادل آن در مبنای 10 را نمایش دهد "
   ]
  },
  {
   "cell_type": "code",
   "execution_count": 36,
   "id": "38914ed1",
   "metadata": {},
   "outputs": [
    {
     "name": "stdout",
     "output_type": "stream",
     "text": [
      "Enter number: 11001\n",
      "25\n"
     ]
    }
   ],
   "source": [
    "n=0\n",
    "bace=1\n",
    "last=0\n",
    "sums=0\n",
    "n = int(input(\"Enter number : \"))\n",
    "while n:\n",
    "    last = int(n%10)\n",
    "    n = int(n/10)\n",
    "    last *= bace\n",
    "    sums += last\n",
    "    bace = bace*2\n",
    "print(sums)"
   ]
  },
  {
   "cell_type": "markdown",
   "id": "81e6cb89",
   "metadata": {},
   "source": [
    "###  3 )برنامه ای بنویسید که تا وقتی عدد صفر وارد نشده از کاربر عدد بگیرد و سپس معدل اعداد گرفته شده را چاپ نماید"
   ]
  },
  {
   "cell_type": "code",
   "execution_count": 38,
   "id": "a857c194",
   "metadata": {},
   "outputs": [
    {
     "name": "stdout",
     "output_type": "stream",
     "text": [
      "pleace enter  the number 1 :  1\n",
      "pleace enter  the number 2 :  9\n",
      "pleace enter  the number 3 :  0\n",
      "5.0\n"
     ]
    }
   ],
   "source": [
    "s=0\n",
    "count=0\n",
    "for  i in  range(10000):\n",
    "    number=int(input(f'pleace enter  the number { i+1} :  '))\n",
    "    if number==0:\n",
    "        break\n",
    "    s+=number\n",
    "    count+=1\n",
    "ave=s/count\n",
    "print(ave)"
   ]
  },
  {
   "cell_type": "markdown",
   "id": "ea8f1e82",
   "metadata": {},
   "source": [
    "### 4 )    1-2-4-7-11-16-22-29               << <=====برنامه ای بنویسید که دنباله اعداد زیر را تا زمانیکه کوچکتر از 300 هستند چاپ کند      "
   ]
  },
  {
   "cell_type": "code",
   "execution_count": 46,
   "id": "d6544487",
   "metadata": {},
   "outputs": [
    {
     "name": "stdout",
     "output_type": "stream",
     "text": [
      "not leser than 300\n"
     ]
    }
   ],
   "source": [
    "myList1 = [1,2,4,7,11,16,22,29 ]\n",
    "myList2 = [ ]\n",
    "for myList1[i] in range (int(len(myList1)-1)) : \n",
    "    if  myList1[i] < 300 : \n",
    "        myList2.append(int(myList1[i]))\n",
    "else :\n",
    "            print(\"not leser than 300\")"
   ]
  },
  {
   "cell_type": "markdown",
   "id": "880a17b5",
   "metadata": {},
   "source": [
    "### 5 )برنامه ای بنویسید که عددی مانند( )  را از کاربر دریافت کند و  جمله( ) دنباله فیبوناچی را چاپ نماید "
   ]
  },
  {
   "cell_type": "code",
   "execution_count": 58,
   "id": "ee2262ec",
   "metadata": {},
   "outputs": [
    {
     "name": "stdout",
     "output_type": "stream",
     "text": [
      "Enter The nth term of the Fibonacci sequence : 12\n",
      "144\n"
     ]
    }
   ],
   "source": [
    "m = int(input(\"Enter The nth term of the Fibonacci sequence : \"))\n",
    "def fibonacci(n):\n",
    "    a = 1\n",
    "    b = 1\n",
    "    if n < 0:\n",
    "        print(\"Incorrect input\")\n",
    "    elif n == 0:\n",
    "        return a\n",
    "    elif n == 1:\n",
    "        return b\n",
    "    else:\n",
    "        for i in range(2, n):\n",
    "            c = a + b\n",
    "            a = b\n",
    "            b = c\n",
    "        return b\n",
    "\n",
    "print(fibonacci(m))"
   ]
  },
  {
   "cell_type": "markdown",
   "id": "70bbb68d",
   "metadata": {},
   "source": [
    "###  6 )برنامهای بنویسید که عددی را از کاربر بگیرد و تعداد ارقام آن عدد را نمایش دهد"
   ]
  },
  {
   "cell_type": "code",
   "execution_count": 59,
   "id": "df65c3ee",
   "metadata": {},
   "outputs": [
    {
     "name": "stdout",
     "output_type": "stream",
     "text": [
      "Enter  a numberrrrrrr  : 1234567\n",
      "Number of digits :  7\n"
     ]
    }
   ],
   "source": [
    "nuumbeer = int(input(\"Enter  a numberrrrrrr  : \"))\n",
    "count = 0\n",
    "\n",
    "while nuumbeer != 0:\n",
    "    nuumbeer //= 10\n",
    "    count += 1\n",
    "\n",
    "print(\"Number of digits :  \" + str(count))"
   ]
  }
 ],
 "metadata": {
  "kernelspec": {
   "display_name": "Python 3 (ipykernel)",
   "language": "python",
   "name": "python3"
  },
  "language_info": {
   "codemirror_mode": {
    "name": "ipython",
    "version": 3
   },
   "file_extension": ".py",
   "mimetype": "text/x-python",
   "name": "python",
   "nbconvert_exporter": "python",
   "pygments_lexer": "ipython3",
   "version": "3.9.12"
  }
 },
 "nbformat": 4,
 "nbformat_minor": 5
}
