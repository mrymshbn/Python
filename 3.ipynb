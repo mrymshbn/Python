{
 "cells": [
  {
   "cell_type": "markdown",
   "id": "46d1aaca",
   "metadata": {},
   "source": [
    "### 1)  برنامه ای بنویسید که دو عدد را از کاربر بگیرد و تمام اعداد بین آن دو عدد (غیر از خود اعداد) را چاپ کند"
   ]
  },
  {
   "cell_type": "code",
   "execution_count": 6,
   "id": "ffe8a718",
   "metadata": {},
   "outputs": [
    {
     "name": "stdout",
     "output_type": "stream",
     "text": [
      "Enter a  Number : 5\n",
      "Enter a  Number : 66\n",
      "[6, 7, 8, 9, 10, 11, 12, 13, 14, 15, 16, 17, 18, 19, 20, 21, 22, 23, 24, 25, 26, 27, 28, 29, 30, 31, 32, 33, 34, 35, 36, 37, 38, 39, 40, 41, 42, 43, 44, 45, 46, 47, 48, 49, 50, 51, 52, 53, 54, 55, 56, 57, 58, 59, 60, 61, 62, 63, 64, 65]\n"
     ]
    }
   ],
   "source": [
    "num1= int(input('Enter a  Number : '))\n",
    "num2= int(input('Enter a  Number : '))\n",
    "s=[ ]\n",
    "\n",
    "for i in range (num1+1,num2) :\n",
    "    s.append(i)\n",
    "print(s)\n",
    "    "
   ]
  },
  {
   "cell_type": "markdown",
   "id": "adf01cd6",
   "metadata": {},
   "source": [
    "\n",
    "### 2)  برنامه ای بنویسید که یک عدد را از کاربر دریافت کند؛ مجموع اعداد فرد کوچکتر از آن را محاسبه کرده ودر انتها چاپ کند"
   ]
  },
  {
   "cell_type": "code",
   "execution_count": 18,
   "id": "3f441b2f",
   "metadata": {},
   "outputs": [
    {
     "name": "stdout",
     "output_type": "stream",
     "text": [
      "Enter a  Number : 7\n",
      "9\n",
      "9\n"
     ]
    }
   ],
   "source": [
    "num= int(input('Enter a  Number : '))\n",
    "s1=0\n",
    "for i in  range (1,num) :\n",
    "    if  i %2==1  :\n",
    "        s1+=i\n",
    "print(s1)\n",
    "\n",
    "s2=0\n",
    "for i in range(1,num,2) :\n",
    "    s2+=i\n",
    "print(s2)\n"
   ]
  },
  {
   "cell_type": "markdown",
   "id": "b9cb0994",
   "metadata": {},
   "source": [
    "## 3) برنامه ای بنویسید که دو عدد بگیرد و بگوید بین آن دو عدد (غیر از خود اعداد) چند عدد مضرب 7 وجود دارد "
   ]
  },
  {
   "cell_type": "code",
   "execution_count": 19,
   "id": "f4474240",
   "metadata": {},
   "outputs": [
    {
     "name": "stdout",
     "output_type": "stream",
     "text": [
      "num1 should be  less than num2\n",
      "Enter Frist Number : 4\n",
      "Enter Secend Number : 18\n",
      "2\n"
     ]
    }
   ],
   "source": [
    "print('num1 should be  less than num2')\n",
    "\n",
    "num1= int(input('Enter Frist Number : '))\n",
    "num2= int(input('Enter Secend Number : '))\n",
    "\n",
    "counter=0\n",
    "for i in range (num1 +1 ,num2,1) :    \n",
    "    if  i %7 == 0  :      \n",
    "        counter+=1       \n",
    "print(counter)\n",
    "        "
   ]
  },
  {
   "cell_type": "markdown",
   "id": "14a89223",
   "metadata": {},
   "source": [
    "### 4)برنامه ای بنویسید که همه اعداد دو رقمی که یکانشان بزرگتر از دهگانشان است را چاپ کند "
   ]
  },
  {
   "cell_type": "code",
   "execution_count": 55,
   "id": "e937e193",
   "metadata": {},
   "outputs": [
    {
     "name": "stdout",
     "output_type": "stream",
     "text": [
      "[12, 13, 14, 15, 16, 17, 18, 19, 23, 24, 25, 26, 27, 28, 29, 34, 35, 36, 37, 38, 39, 45, 46, 47, 48, 49, 56, 57, 58, 59, 67, 68, 69, 78, 79, 89]\n"
     ]
    }
   ],
   "source": [
    "     s=[]\n",
    "for i in range (10,100)  :\n",
    "       \n",
    "           if  i %10  >  i //10    :\n",
    "                s.append(i)\n",
    "print(s)"
   ]
  },
  {
   "cell_type": "markdown",
   "id": "7d7f57b5",
   "metadata": {},
   "source": [
    "### 5 ) برنامه ای بنویسید که کلیه اعداد  بین 1 تا 100( غیر از خود اعداد) را که مضارب 3 و 5 نیستند را  نمایش دهد "
   ]
  },
  {
   "cell_type": "code",
   "execution_count": 78,
   "id": "256e8cb8",
   "metadata": {},
   "outputs": [
    {
     "name": "stdout",
     "output_type": "stream",
     "text": [
      "[2, 4, 7, 8, 11, 13, 14, 16, 17, 19, 22, 23, 26, 28, 29, 31, 32, 34, 37, 38, 41, 43, 44, 46, 47, 49, 52, 53, 56, 58, 59, 61, 62, 64, 67, 68, 71, 73, 74, 76, 77, 79, 82, 83, 86, 88, 89, 91, 92, 94, 97, 98]\n"
     ]
    }
   ],
   "source": [
    "s= [ ]\n",
    "for i in range (2,100) :\n",
    "    if  i %3!=0  and  i %5!=0  :\n",
    "        s.append(i)\n",
    "print(s )"
   ]
  },
  {
   "cell_type": "code",
   "execution_count": 81,
   "id": "07a79a12",
   "metadata": {
    "scrolled": true
   },
   "outputs": [
    {
     "name": "stdout",
     "output_type": "stream",
     "text": [
      "2\n",
      "4\n",
      "7\n",
      "8\n",
      "11\n",
      "13\n",
      "14\n",
      "16\n",
      "17\n",
      "19\n",
      "22\n",
      "23\n",
      "26\n",
      "28\n",
      "29\n",
      "31\n",
      "32\n",
      "34\n",
      "37\n",
      "38\n",
      "41\n",
      "43\n",
      "44\n",
      "46\n",
      "47\n",
      "49\n",
      "52\n",
      "53\n",
      "56\n",
      "58\n",
      "59\n",
      "61\n",
      "62\n",
      "64\n",
      "67\n",
      "68\n",
      "71\n",
      "73\n",
      "74\n",
      "76\n",
      "77\n",
      "79\n",
      "82\n",
      "83\n",
      "86\n",
      "88\n",
      "89\n",
      "91\n",
      "92\n",
      "94\n",
      "97\n",
      "98\n"
     ]
    }
   ],
   "source": [
    "for i in range (2,100) :\n",
    "    if  i %3!=0  and  i %5!=0  :\n",
    "        print(i )"
   ]
  },
  {
   "cell_type": "code",
   "execution_count": 71,
   "id": "98f58b31",
   "metadata": {},
   "outputs": [
    {
     "name": "stdout",
     "output_type": "stream",
     "text": [
      "(98, 2, 4, 7, 8, 11, 13, 14, 16, 17, 19, 22, 23, 26, 28, 29, 31, 32, 34, 37, 38, 41, 43, 44, 46, 47, 49, 52, 53, 56, 58, 59, 61, 62, 64, 67, 68, 71, 73, 74, 76, 77, 79, 82, 83, 86, 88, 89, 91, 92, 94, 97, 98)\n"
     ]
    }
   ],
   "source": [
    "s=()\n",
    "for i in range (2,100) :\n",
    "    if  i %3!=0  and  i %5!=0  :\n",
    "        s_append_one  += (i,)\n",
    "print(s_append_one )\n",
    "        "
   ]
  },
  {
   "cell_type": "code",
   "execution_count": null,
   "id": "5431672c",
   "metadata": {},
   "outputs": [],
   "source": []
  }
 ],
 "metadata": {
  "kernelspec": {
   "display_name": "Python 3 (ipykernel)",
   "language": "python",
   "name": "python3"
  },
  "language_info": {
   "codemirror_mode": {
    "name": "ipython",
    "version": 3
   },
   "file_extension": ".py",
   "mimetype": "text/x-python",
   "name": "python",
   "nbconvert_exporter": "python",
   "pygments_lexer": "ipython3",
   "version": "3.9.7"
  }
 },
 "nbformat": 4,
 "nbformat_minor": 5
}
